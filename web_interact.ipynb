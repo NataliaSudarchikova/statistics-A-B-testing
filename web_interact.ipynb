{
 "cells": [
  {
   "cell_type": "code",
   "execution_count": 1,
   "id": "5aa2382f-0915-4b9f-be83-02eced640457",
   "metadata": {},
   "outputs": [],
   "source": [
    "import pandas as pd\n",
    "import numpy as np"
   ]
  },
  {
   "cell_type": "code",
   "execution_count": 42,
   "id": "7f359025-a9f7-4b3e-a956-a567854168e4",
   "metadata": {},
   "outputs": [],
   "source": [
    "interact = pd.read_csv (\"C:/Users/m218101/Desktop/WBS_Coding_school/Course/Statistics/data/Interact/interact.csv\")\n",
    "connect = pd.read_csv (\"C:/Users/m218101/Desktop/WBS_Coding_school/Course/Statistics/data/Connect/connect.csv\")\n",
    "services = pd.read_csv (\"C:/Users/m218101/Desktop/WBS_Coding_school/Course/Statistics/data/Services/services.csv\")\n",
    "learn = pd.read_csv (\"C:/Users/m218101/Desktop/WBS_Coding_school/Course/Statistics/data/Learn/learn.csv\")\n",
    "helpit = pd.read_csv (\"C:/Users/m218101/Desktop/WBS_Coding_school/Course/Statistics/data/Help/helpit.csv\")"
   ]
  },
  {
   "cell_type": "code",
   "execution_count": 19,
   "id": "d50ea041-6be3-4154-b4c9-6416f10e1fe2",
   "metadata": {},
   "outputs": [
    {
     "data": {
      "text/html": [
       "<div>\n",
       "<style scoped>\n",
       "    .dataframe tbody tr th:only-of-type {\n",
       "        vertical-align: middle;\n",
       "    }\n",
       "\n",
       "    .dataframe tbody tr th {\n",
       "        vertical-align: top;\n",
       "    }\n",
       "\n",
       "    .dataframe thead th {\n",
       "        text-align: right;\n",
       "    }\n",
       "</style>\n",
       "<table border=\"1\" class=\"dataframe\">\n",
       "  <thead>\n",
       "    <tr style=\"text-align: right;\">\n",
       "      <th></th>\n",
       "      <th>Element ID</th>\n",
       "      <th>Tag name</th>\n",
       "      <th>Name</th>\n",
       "      <th>No. clicks</th>\n",
       "      <th>Visible?</th>\n",
       "      <th>Snapshot information</th>\n",
       "    </tr>\n",
       "  </thead>\n",
       "  <tbody>\n",
       "    <tr>\n",
       "      <th>0</th>\n",
       "      <td>128</td>\n",
       "      <td>area</td>\n",
       "      <td>Montana State University - Home</td>\n",
       "      <td>1291</td>\n",
       "      <td>False</td>\n",
       "      <td>Homepage Version 1 - Interact   •   http://www...</td>\n",
       "    </tr>\n",
       "    <tr>\n",
       "      <th>1</th>\n",
       "      <td>69</td>\n",
       "      <td>a</td>\n",
       "      <td>FIND</td>\n",
       "      <td>842</td>\n",
       "      <td>True</td>\n",
       "      <td>created 5-29-2013   •   20 days 4 hours 21 min...</td>\n",
       "    </tr>\n",
       "    <tr>\n",
       "      <th>2</th>\n",
       "      <td>61</td>\n",
       "      <td>input</td>\n",
       "      <td>s.q</td>\n",
       "      <td>508</td>\n",
       "      <td>True</td>\n",
       "      <td>NaN</td>\n",
       "    </tr>\n",
       "    <tr>\n",
       "      <th>3</th>\n",
       "      <td>67</td>\n",
       "      <td>a</td>\n",
       "      <td>lib.montana.edu/find/</td>\n",
       "      <td>166</td>\n",
       "      <td>True</td>\n",
       "      <td>NaN</td>\n",
       "    </tr>\n",
       "    <tr>\n",
       "      <th>4</th>\n",
       "      <td>78</td>\n",
       "      <td>a</td>\n",
       "      <td>REQUEST</td>\n",
       "      <td>151</td>\n",
       "      <td>True</td>\n",
       "      <td>NaN</td>\n",
       "    </tr>\n",
       "  </tbody>\n",
       "</table>\n",
       "</div>"
      ],
      "text/plain": [
       "   Element ID Tag name                             Name  No. clicks  Visible?  \\\n",
       "0         128     area  Montana State University - Home        1291     False   \n",
       "1          69        a                             FIND         842      True   \n",
       "2          61    input                              s.q         508      True   \n",
       "3          67        a            lib.montana.edu/find/         166      True   \n",
       "4          78        a                          REQUEST         151      True   \n",
       "\n",
       "                                Snapshot information  \n",
       "0  Homepage Version 1 - Interact   •   http://www...  \n",
       "1  created 5-29-2013   •   20 days 4 hours 21 min...  \n",
       "2                                                NaN  \n",
       "3                                                NaN  \n",
       "4                                                NaN  "
      ]
     },
     "execution_count": 19,
     "metadata": {},
     "output_type": "execute_result"
    }
   ],
   "source": [
    "interact.head(5)"
   ]
  },
  {
   "cell_type": "code",
   "execution_count": 20,
   "id": "05b5ca8b-8c9c-44ca-9099-529d676f50eb",
   "metadata": {},
   "outputs": [],
   "source": [
    "interact = interact.rename(columns={\"Snapshot information\": \"s_info\"})"
   ]
  },
  {
   "cell_type": "code",
   "execution_count": 24,
   "id": "370a954a-2f70-41bc-8d36-65edd979d314",
   "metadata": {},
   "outputs": [
    {
     "data": {
      "text/plain": [
       "array(['Homepage Version 1 - Interact   •   http://www.lib.montana.edu/index.php',\n",
       "       'created 5-29-2013   •   20 days 4 hours 21 mins   •   10283 visits, 3714 clicks',\n",
       "       nan], dtype=object)"
      ]
     },
     "execution_count": 24,
     "metadata": {},
     "output_type": "execute_result"
    }
   ],
   "source": [
    "interact.s_info.unique()"
   ]
  },
  {
   "cell_type": "code",
   "execution_count": null,
   "id": "1e6cc3ae-f2af-4e8e-b4a5-7cd844923bdb",
   "metadata": {},
   "outputs": [],
   "source": [
    "Click-through rate (CTR) for the homepage. Amount of clicks on the button divided by the total visits to the page. \n",
    "Selected as a measure of the initial ability of the category title to attract users."
   ]
  },
  {
   "cell_type": "code",
   "execution_count": 36,
   "id": "0ed1eab2-a6c3-4614-8715-c16f2251b6e5",
   "metadata": {},
   "outputs": [
    {
     "name": "stdout",
     "output_type": "stream",
     "text": [
      "<class 'pandas.core.frame.DataFrame'>\n",
      "RangeIndex: 69 entries, 0 to 68\n",
      "Data columns (total 6 columns):\n",
      " #   Column     Non-Null Count  Dtype \n",
      "---  ------     --------------  ----- \n",
      " 0   ElementID  69 non-null     int64 \n",
      " 1   Tagname    69 non-null     object\n",
      " 2   Name       69 non-null     object\n",
      " 3   Noclicks   69 non-null     int64 \n",
      " 4   Visible?   69 non-null     bool  \n",
      " 5   s_info     2 non-null      object\n",
      "dtypes: bool(1), int64(2), object(3)\n",
      "memory usage: 2.9+ KB\n"
     ]
    }
   ],
   "source": [
    "interact.info()"
   ]
  },
  {
   "cell_type": "code",
   "execution_count": 50,
   "id": "8ff8567b-7faa-4a1a-b1d2-eb385ed2f8b2",
   "metadata": {},
   "outputs": [
    {
     "name": "stderr",
     "output_type": "stream",
     "text": [
      "C:\\Users\\m218101\\AppData\\Local\\Temp\\ipykernel_6760\\704666939.py:2: FutureWarning: The default value of regex will change from True to False in a future version. In addition, single character regular expressions will *not* be treated as literal strings when regex=True.\n",
      "  interact.columns = interact.columns.str.replace('.','')\n"
     ]
    }
   ],
   "source": [
    "interact.columns = interact.columns.str.replace(' ','')\n",
    "interact.columns = interact.columns.str.replace('.','')"
   ]
  },
  {
   "cell_type": "code",
   "execution_count": 51,
   "id": "16de5840-a35b-46db-b279-b8be4474e418",
   "metadata": {},
   "outputs": [
    {
     "data": {
      "text/html": [
       "<div>\n",
       "<style scoped>\n",
       "    .dataframe tbody tr th:only-of-type {\n",
       "        vertical-align: middle;\n",
       "    }\n",
       "\n",
       "    .dataframe tbody tr th {\n",
       "        vertical-align: top;\n",
       "    }\n",
       "\n",
       "    .dataframe thead th {\n",
       "        text-align: right;\n",
       "    }\n",
       "</style>\n",
       "<table border=\"1\" class=\"dataframe\">\n",
       "  <thead>\n",
       "    <tr style=\"text-align: right;\">\n",
       "      <th></th>\n",
       "      <th>ElementID</th>\n",
       "      <th>Tagname</th>\n",
       "      <th>Name</th>\n",
       "      <th>Noclicks</th>\n",
       "      <th>Visible?</th>\n",
       "      <th>Snapshotinformation</th>\n",
       "    </tr>\n",
       "  </thead>\n",
       "  <tbody>\n",
       "  </tbody>\n",
       "</table>\n",
       "</div>"
      ],
      "text/plain": [
       "Empty DataFrame\n",
       "Columns: [ElementID, Tagname, Name, Noclicks, Visible?, Snapshotinformation]\n",
       "Index: []"
      ]
     },
     "execution_count": 51,
     "metadata": {},
     "output_type": "execute_result"
    }
   ],
   "source": [
    "interact.head(0)"
   ]
  },
  {
   "cell_type": "code",
   "execution_count": 52,
   "id": "8754fcf0-009e-414f-8b6d-94bb4f654446",
   "metadata": {},
   "outputs": [
    {
     "data": {
      "text/plain": [
       "3714"
      ]
     },
     "execution_count": 52,
     "metadata": {},
     "output_type": "execute_result"
    }
   ],
   "source": [
    "interact['Noclicks'].sum()"
   ]
  },
  {
   "cell_type": "code",
   "execution_count": 54,
   "id": "de0ed6c1-ca66-44aa-a669-66108a9b4df9",
   "metadata": {},
   "outputs": [
    {
     "data": {
      "text/plain": [
       "0.36117864436448505"
      ]
     },
     "execution_count": 54,
     "metadata": {},
     "output_type": "execute_result"
    }
   ],
   "source": [
    "CTR_interact = (interact['Noclicks'].sum())/10283\n",
    "CTR_interact # Click-through rate (CTR)"
   ]
  },
  {
   "cell_type": "code",
   "execution_count": 43,
   "id": "5fd6265e-8baa-4f65-9d57-8bc46f1e9a65",
   "metadata": {},
   "outputs": [
    {
     "name": "stderr",
     "output_type": "stream",
     "text": [
      "C:\\Users\\m218101\\AppData\\Local\\Temp\\ipykernel_6760\\4279013200.py:2: FutureWarning: The default value of regex will change from True to False in a future version. In addition, single character regular expressions will *not* be treated as literal strings when regex=True.\n",
      "  connect.columns = connect.columns.str.replace('.','')\n"
     ]
    }
   ],
   "source": [
    "connect.columns = connect.columns.str.replace(' ','')\n",
    "connect.columns = connect.columns.str.replace('.','')"
   ]
  },
  {
   "cell_type": "code",
   "execution_count": 45,
   "id": "b57b01c1-a51c-458d-abdd-0ac2dc610ff2",
   "metadata": {},
   "outputs": [
    {
     "data": {
      "text/plain": [
       "array(['Homepage Version 2 - Connect   •   http://www.lib.montana.edu/index2.php',\n",
       "       'created 5-29-2013   •   20 days 7 hours 34 mins   •   2742 visits, 1587 clicks',\n",
       "       nan], dtype=object)"
      ]
     },
     "execution_count": 45,
     "metadata": {},
     "output_type": "execute_result"
    }
   ],
   "source": [
    "connect.Snapshotinformation.unique()"
   ]
  },
  {
   "cell_type": "code",
   "execution_count": 55,
   "id": "b2cb48c9-86bd-41f6-9b10-ccef728315fd",
   "metadata": {},
   "outputs": [
    {
     "data": {
      "text/plain": [
       "0.5787746170678337"
      ]
     },
     "execution_count": 55,
     "metadata": {},
     "output_type": "execute_result"
    }
   ],
   "source": [
    "CTR_connect = (connect['Noclicks'].sum())/2742\n",
    "CTR_connect # Click-through rate (CTR)"
   ]
  },
  {
   "cell_type": "code",
   "execution_count": 56,
   "id": "d53c9e40-ed54-4a03-b7b3-a2e1457240fa",
   "metadata": {},
   "outputs": [
    {
     "name": "stderr",
     "output_type": "stream",
     "text": [
      "C:\\Users\\m218101\\AppData\\Local\\Temp\\ipykernel_6760\\360427398.py:2: FutureWarning: The default value of regex will change from True to False in a future version. In addition, single character regular expressions will *not* be treated as literal strings when regex=True.\n",
      "  helpit.columns = helpit.columns.str.replace('.','')\n",
      "C:\\Users\\m218101\\AppData\\Local\\Temp\\ipykernel_6760\\360427398.py:4: FutureWarning: The default value of regex will change from True to False in a future version. In addition, single character regular expressions will *not* be treated as literal strings when regex=True.\n",
      "  services.columns = services.columns.str.replace('.','')\n",
      "C:\\Users\\m218101\\AppData\\Local\\Temp\\ipykernel_6760\\360427398.py:6: FutureWarning: The default value of regex will change from True to False in a future version. In addition, single character regular expressions will *not* be treated as literal strings when regex=True.\n",
      "  learn.columns = learn.columns.str.replace('.','')\n"
     ]
    }
   ],
   "source": [
    "helpit.columns = helpit.columns.str.replace(' ','')\n",
    "helpit.columns = helpit.columns.str.replace('.','')\n",
    "services.columns = services.columns.str.replace(' ','')\n",
    "services.columns = services.columns.str.replace('.','')\n",
    "learn.columns = learn.columns.str.replace(' ','')\n",
    "learn.columns = learn.columns.str.replace('.','')"
   ]
  },
  {
   "cell_type": "code",
   "execution_count": 57,
   "id": "d2dd106e-cde4-45f8-bfb2-cba211d0fd04",
   "metadata": {},
   "outputs": [
    {
     "data": {
      "text/plain": [
       "array(['Homepage Version 4 - Help   •   http://www.lib.montana.edu/index4.php',\n",
       "       'created 5-29-2013   •   20 days 4 hours 59 mins   •   3180 visits, 1717 clicks',\n",
       "       nan], dtype=object)"
      ]
     },
     "execution_count": 57,
     "metadata": {},
     "output_type": "execute_result"
    }
   ],
   "source": [
    "helpit.Snapshotinformation.unique()"
   ]
  },
  {
   "cell_type": "code",
   "execution_count": 73,
   "id": "0907d2a9-7911-4838-945a-faae3ba92147",
   "metadata": {},
   "outputs": [
    {
     "data": {
      "text/plain": [
       "0.539937106918239"
      ]
     },
     "execution_count": 73,
     "metadata": {},
     "output_type": "execute_result"
    }
   ],
   "source": [
    "CTR_helpit = (helpit['Noclicks'].sum())/3180\n",
    "CTR_helpit # Click-through rate (CTR)"
   ]
  },
  {
   "cell_type": "code",
   "execution_count": 59,
   "id": "4438abfb-4c37-41cb-96b3-d82bc4735a34",
   "metadata": {},
   "outputs": [
    {
     "data": {
      "text/plain": [
       "array(['Homepage Version 5 - Services   •   http://www.lib.montana.edu/index5.php',\n",
       "       'created 5-29-2013   •   20 days 4 hours 59 mins   •   2064 visits, 1348 clicks',\n",
       "       nan], dtype=object)"
      ]
     },
     "execution_count": 59,
     "metadata": {},
     "output_type": "execute_result"
    }
   ],
   "source": [
    "services.Snapshotinformation.unique()"
   ]
  },
  {
   "cell_type": "code",
   "execution_count": 70,
   "id": "e57fa4a3-e0e0-47a8-89f1-e0915ba313e7",
   "metadata": {},
   "outputs": [
    {
     "data": {
      "text/plain": [
       "0.6531007751937985"
      ]
     },
     "execution_count": 70,
     "metadata": {},
     "output_type": "execute_result"
    }
   ],
   "source": [
    "CTR_services = (services['Noclicks'].sum())/2064\n",
    "CTR_services # Click-through rate (CTR)"
   ]
  },
  {
   "cell_type": "code",
   "execution_count": 61,
   "id": "775fe730-95d4-4996-9c3b-440531080bb9",
   "metadata": {},
   "outputs": [
    {
     "data": {
      "text/plain": [
       "array(['Homepage Version 3 - Learn   •   http://www.lib.montana.edu/index3.php',\n",
       "       'created 5-29-2013   •   20 days 12 hours 21 mins   •   2747 visits, 1652 clicks',\n",
       "       nan], dtype=object)"
      ]
     },
     "execution_count": 61,
     "metadata": {},
     "output_type": "execute_result"
    }
   ],
   "source": [
    "learn.Snapshotinformation.unique()"
   ]
  },
  {
   "cell_type": "code",
   "execution_count": 69,
   "id": "dded5c32-631f-4bb5-9ac1-132e8b1fbcf7",
   "metadata": {},
   "outputs": [
    {
     "data": {
      "text/plain": [
       "0.6013833272661084"
      ]
     },
     "execution_count": 69,
     "metadata": {},
     "output_type": "execute_result"
    }
   ],
   "source": [
    "CTR_learn = (learn['Noclicks'].sum())/2747\n",
    "CTR_learn # Click-through rate (CTR)"
   ]
  },
  {
   "cell_type": "code",
   "execution_count": 75,
   "id": "7ed5b3f2-9f62-42a5-b9bf-ffa173cafb74",
   "metadata": {},
   "outputs": [
    {
     "data": {
      "text/plain": [
       "(0.6531007751937985,\n",
       " 0.6013833272661084,\n",
       " 0.5787746170678337,\n",
       " 0.539937106918239,\n",
       " 0.36117864436448505)"
      ]
     },
     "execution_count": 75,
     "metadata": {},
     "output_type": "execute_result"
    }
   ],
   "source": [
    "CTR_services, CTR_learn, CTR_connect, CTR_helpit, CTR_interact\n",
    "#visits: 2064,   2747,      2743,        3180,       10283 "
   ]
  },
  {
   "cell_type": "code",
   "execution_count": null,
   "id": "e00cf8da-f8cb-4713-8381-3460d9eee22d",
   "metadata": {},
   "outputs": [],
   "source": [
    "But, are these differences significant? see in notheboook Montana_library_scipy_9steps.ipynb"
   ]
  },
  {
   "cell_type": "code",
   "execution_count": 67,
   "id": "afad2dae-f461-4756-bd57-b41aea42382e",
   "metadata": {},
   "outputs": [],
   "source": [
    "helpit = pd.read_csv (\"C:/Users/m218101/Desktop/WBS_Coding_school/Course/Statistics/data/Help/helpit.csv\")"
   ]
  },
  {
   "cell_type": "code",
   "execution_count": 68,
   "id": "2bfdac31-5f1a-4037-b909-f7afd307267e",
   "metadata": {},
   "outputs": [],
   "source": [
    "helpit.columns = helpit.columns.str.replace('.','',regex=True)"
   ]
  },
  {
   "cell_type": "code",
   "execution_count": 72,
   "id": "0eb91036-e07a-45fc-a62e-80e61221ac89",
   "metadata": {},
   "outputs": [],
   "source": [
    "helpit.columns = helpit.columns.str.replace(' ','')"
   ]
  },
  {
   "cell_type": "code",
   "execution_count": null,
   "id": "0d45b1f5-5950-495f-94e9-0057fde6a991",
   "metadata": {},
   "outputs": [],
   "source": []
  }
 ],
 "metadata": {
  "kernelspec": {
   "display_name": "Python 3 (ipykernel)",
   "language": "python",
   "name": "python3"
  },
  "language_info": {
   "codemirror_mode": {
    "name": "ipython",
    "version": 3
   },
   "file_extension": ".py",
   "mimetype": "text/x-python",
   "name": "python",
   "nbconvert_exporter": "python",
   "pygments_lexer": "ipython3",
   "version": "3.9.12"
  }
 },
 "nbformat": 4,
 "nbformat_minor": 5
}
